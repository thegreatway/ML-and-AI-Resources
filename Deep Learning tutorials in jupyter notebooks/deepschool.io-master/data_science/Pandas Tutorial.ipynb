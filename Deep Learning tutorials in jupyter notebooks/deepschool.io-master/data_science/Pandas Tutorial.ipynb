{
 "cells": [
  {
   "cell_type": "markdown",
   "metadata": {},
   "source": [
    "# Pandas Tutorial\n",
    "\n",
    "![trump](./images/trump.jpg)"
   ]
  },
  {
   "cell_type": "code",
   "execution_count": 4,
   "metadata": {},
   "outputs": [
    {
     "name": "stdout",
     "output_type": "stream",
     "text": [
      "Requirement already satisfied: nltk in /root/miniconda3/lib/python3.6/site-packages\n",
      "Requirement already satisfied: six in /root/miniconda3/lib/python3.6/site-packages (from nltk)\n",
      "[nltk_data] Downloading package stopwords to /root/nltk_data...\n",
      "[nltk_data]   Package stopwords is already up-to-date!\n",
      "[nltk_data] Downloading package vader_lexicon to /root/nltk_data...\n"
     ]
    },
    {
     "data": {
      "text/plain": [
       "True"
      ]
     },
     "execution_count": 4,
     "metadata": {},
     "output_type": "execute_result"
    }
   ],
   "source": [
    "!pip install nltk\n",
    "!pip install -U spacy\n",
    "!python -m spacy download en\n",
    "import nltk\n",
    "nltk.download('stopwords')\n",
    "nltk.download('vader_lexicon')"
   ]
  },
  {
   "cell_type": "code",
   "execution_count": 69,
   "metadata": {},
   "outputs": [],
   "source": [
    "import pandas as pd\n",
    "import numpy as np\n",
    "import matplotlib.pyplot as plt\n",
    "%matplotlib inline\n",
    "import re\n",
    "\n",
    "import spacy\n",
    "from nltk.corpus import stopwords\n",
    "from nltk.sentiment.vader import SentimentIntensityAnalyzer as SIA\n",
    "\n",
    "import itertools\n",
    "from collections import Counter\n",
    "\n",
    "from sklearn.feature_extraction.text import CountVectorizer\n",
    "from sklearn.decomposition import LatentDirichletAllocation\n",
    "\n",
    "import pickle"
   ]
  },
  {
   "cell_type": "code",
   "execution_count": 11,
   "metadata": {},
   "outputs": [
    {
     "data": {
      "text/html": [
       "<div>\n",
       "<style>\n",
       "    .dataframe thead tr:only-child th {\n",
       "        text-align: right;\n",
       "    }\n",
       "\n",
       "    .dataframe thead th {\n",
       "        text-align: left;\n",
       "    }\n",
       "\n",
       "    .dataframe tbody tr th {\n",
       "        vertical-align: top;\n",
       "    }\n",
       "</style>\n",
       "<table border=\"1\" class=\"dataframe\">\n",
       "  <thead>\n",
       "    <tr style=\"text-align: right;\">\n",
       "      <th></th>\n",
       "      <th>source</th>\n",
       "      <th>text</th>\n",
       "      <th>created_at</th>\n",
       "      <th>favorite_count</th>\n",
       "      <th>is_retweet</th>\n",
       "      <th>id_str</th>\n",
       "    </tr>\n",
       "  </thead>\n",
       "  <tbody>\n",
       "    <tr>\n",
       "      <th>0</th>\n",
       "      <td>Twitter for iPhone</td>\n",
       "      <td>i think senator blumenthal should take a nice ...</td>\n",
       "      <td>2017-08-07 20:48:54</td>\n",
       "      <td>61446</td>\n",
       "      <td>false</td>\n",
       "      <td>8.946617e+17</td>\n",
       "    </tr>\n",
       "    <tr>\n",
       "      <th>1</th>\n",
       "      <td>Twitter for iPhone</td>\n",
       "      <td>how much longer will the failing nytimes with ...</td>\n",
       "      <td>2017-08-07 20:39:46</td>\n",
       "      <td>42235</td>\n",
       "      <td>false</td>\n",
       "      <td>8.946594e+17</td>\n",
       "    </tr>\n",
       "    <tr>\n",
       "      <th>2</th>\n",
       "      <td>Twitter for iPhone</td>\n",
       "      <td>the fake news media will not talk about the im...</td>\n",
       "      <td>2017-08-07 20:15:18</td>\n",
       "      <td>45050</td>\n",
       "      <td>false</td>\n",
       "      <td>8.946532e+17</td>\n",
       "    </tr>\n",
       "    <tr>\n",
       "      <th>4</th>\n",
       "      <td>Twitter for iPhone</td>\n",
       "      <td>on #purpleheartday i thank all the brave men a...</td>\n",
       "      <td>2017-08-07 18:03:42</td>\n",
       "      <td>48472</td>\n",
       "      <td>false</td>\n",
       "      <td>8.946201e+17</td>\n",
       "    </tr>\n",
       "    <tr>\n",
       "      <th>5</th>\n",
       "      <td>Twitter for iPhone</td>\n",
       "      <td>...conquests how brave he was and it was all a...</td>\n",
       "      <td>2017-08-07 12:01:20</td>\n",
       "      <td>59253</td>\n",
       "      <td>false</td>\n",
       "      <td>8.945289e+17</td>\n",
       "    </tr>\n",
       "  </tbody>\n",
       "</table>\n",
       "</div>"
      ],
      "text/plain": [
       "               source                                               text  \\\n",
       "0  Twitter for iPhone  i think senator blumenthal should take a nice ...   \n",
       "1  Twitter for iPhone  how much longer will the failing nytimes with ...   \n",
       "2  Twitter for iPhone  the fake news media will not talk about the im...   \n",
       "4  Twitter for iPhone  on #purpleheartday i thank all the brave men a...   \n",
       "5  Twitter for iPhone  ...conquests how brave he was and it was all a...   \n",
       "\n",
       "           created_at favorite_count is_retweet        id_str  \n",
       "0 2017-08-07 20:48:54          61446      false  8.946617e+17  \n",
       "1 2017-08-07 20:39:46          42235      false  8.946594e+17  \n",
       "2 2017-08-07 20:15:18          45050      false  8.946532e+17  \n",
       "4 2017-08-07 18:03:42          48472      false  8.946201e+17  \n",
       "5 2017-08-07 12:01:20          59253      false  8.945289e+17  "
      ]
     },
     "execution_count": 11,
     "metadata": {},
     "output_type": "execute_result"
    }
   ],
   "source": [
    "df = pd.read_csv('data/trump.csv') # might need to change location if on Floydhub\n",
    "\n",
    "df = df[df.is_retweet=='false']\n",
    "df.text = df.text.str.lower()\n",
    "\n",
    "df = df[~df.text.str.startswith('rt')]\n",
    "df.text = df.text.str.replace(r'http[\\w:/\\.]+','') # remove urls\n",
    "df.text = df.text.str.replace(r'[^!\\'\"#$%&\\()*+,-./:;<=>?@_’`{|}~\\w\\s]',' ') #remove everything but characters and punctuation\n",
    "df.text = df.text.str.replace(r'\\s\\s+',' ') #replace multple white space with a single one\n",
    "df = df[[len(t)<180 for t in df.text.values]]\n",
    "df = df[[len(t)>50 for t in df.text.values]]\n",
    "\n",
    "df['created_at'] = pd.to_datetime(df['created_at'])\n",
    "\n",
    "df.head()"
   ]
  },
  {
   "cell_type": "code",
   "execution_count": 30,
   "metadata": {},
   "outputs": [
    {
     "data": {
      "text/plain": [
       "source                    object\n",
       "text                      object\n",
       "created_at        datetime64[ns]\n",
       "favorite_count            object\n",
       "is_retweet                object\n",
       "id_str                   float64\n",
       "sentiment                float64\n",
       "dtype: object"
      ]
     },
     "execution_count": 30,
     "metadata": {},
     "output_type": "execute_result"
    }
   ],
   "source": [
    "df.dtypes"
   ]
  },
  {
   "cell_type": "code",
   "execution_count": 18,
   "metadata": {},
   "outputs": [
    {
     "data": {
      "text/plain": [
       "count                   23902\n",
       "unique                  23901\n",
       "top       2016-01-14 05:45:41\n",
       "freq                        2\n",
       "first     2009-05-04 18:54:25\n",
       "last      2017-08-07 20:48:54\n",
       "Name: created_at, dtype: object"
      ]
     },
     "execution_count": 18,
     "metadata": {},
     "output_type": "execute_result"
    }
   ],
   "source": [
    "df.created_at.describe()"
   ]
  },
  {
   "cell_type": "markdown",
   "metadata": {},
   "source": [
    "You can use the `apply` statement to use any custom function to be applied along the columns of a dataframe."
   ]
  },
  {
   "cell_type": "markdown",
   "metadata": {},
   "source": [
    "## Sentiment Analysis"
   ]
  },
  {
   "cell_type": "code",
   "execution_count": 28,
   "metadata": {},
   "outputs": [
    {
     "name": "stdout",
     "output_type": "stream",
     "text": [
      "-0.5719\n",
      "0.8519\n"
     ]
    }
   ],
   "source": [
    "sia = SIA()\n",
    "print(sia.polarity_scores('I hate this movie it is aweful')['compound'])\n",
    "print(sia.polarity_scores('I love this movie it is awesome')['compound'])"
   ]
  },
  {
   "cell_type": "code",
   "execution_count": 23,
   "metadata": {},
   "outputs": [
    {
     "data": {
      "image/png": "[encoded data removed]",
      "text/plain": [
       "<matplotlib.figure.Figure at 0x7f188dc02898>"
      ]
     },
     "metadata": {},
     "output_type": "display_data"
    }
   ],
   "source": [
    "df['sentiment'] = df.text.apply(lambda x: sia.polarity_scores(x)['compound'])\n",
    "df[np.abs(df.sentiment)>1e-2].sentiment.hist(bins=100, figsize=(12,5))\n",
    "plt.show()"
   ]
  },
  {
   "cell_type": "markdown",
   "metadata": {},
   "source": [
    "When you are putting in two conditions you cannot use the usual `and` clause that you would use in a python statement. Instead we have to use the bitwise `&`. It also seems that each conditional statement needs to be wrapped in brackets."
   ]
  },
  {
   "cell_type": "code",
   "execution_count": 26,
   "metadata": {},
   "outputs": [
    {
     "data": {
      "text/plain": [
       "<matplotlib.axes._subplots.AxesSubplot at 0x7f188c8906a0>"
      ]
     },
     "execution_count": 26,
     "metadata": {},
     "output_type": "execute_result"
    },
    {
     "data": {
      "image/png": "[encoded data removed]",
      "text/plain": [
       "<matplotlib.figure.Figure at 0x7f188d5fdf60>"
      ]
     },
     "metadata": {},
     "output_type": "display_data"
    }
   ],
   "source": [
    "df[(np.abs(df.sentiment)>1e-2) & (df.created_at.dt.year>=2016)].sentiment.hist(bins=100, figsize=(12,5))\n",
    "plt.show()"
   ]
  },
  {
   "cell_type": "markdown",
   "metadata": {},
   "source": [
    "See the most used words."
   ]
  },
  {
   "cell_type": "code",
   "execution_count": 35,
   "metadata": {},
   "outputs": [
    {
     "data": {
      "text/plain": [
       "[('@realdonaldtrump', 5930),\n",
       " ('great', 2778),\n",
       " ('trump', 2738),\n",
       " ('&amp;', 2085),\n",
       " ('-', 1670),\n",
       " ('thank', 1390),\n",
       " ('donald', 1137),\n",
       " ('new', 1061),\n",
       " ('would', 1043),\n",
       " ('get', 1007),\n",
       " ('president', 994),\n",
       " ('obama', 983),\n",
       " ('like', 977),\n",
       " ('people', 967),\n",
       " ('make', 894),\n",
       " ('one', 822),\n",
       " ('america', 758),\n",
       " ('big', 708),\n",
       " ('run', 698),\n",
       " ('time', 692)]"
      ]
     },
     "execution_count": 35,
     "metadata": {},
     "output_type": "execute_result"
    }
   ],
   "source": [
    "all_tweeets = ' '.join(df.text.values)\n",
    "all_tweets = re.sub(r'[^a-z ]','', all_tweeets)\n",
    "words = all_tweeets.split()\n",
    "words = [word for word in words if word not in stopwords.words('english')]\n",
    "word_count = Counter(words)\n",
    "word_count.most_common(20)"
   ]
  },
  {
   "cell_type": "markdown",
   "metadata": {},
   "source": [
    "## Tweeting Frequency"
   ]
  },
  {
   "cell_type": "code",
   "execution_count": 44,
   "metadata": {},
   "outputs": [
    {
     "data": {
      "image/png": "[encoded data removed]",
      "text/plain": [
       "<matplotlib.figure.Figure at 0x7f4fd26b51d0>"
      ]
     },
     "metadata": {},
     "output_type": "display_data"
    }
   ],
   "source": [
    "df.groupby(df.created_at.dt.hour).size().plot()\n",
    "plt.title('Number of Tweets at a Given Hour')\n",
    "plt.xlabel('Hour')\n",
    "plt.show()"
   ]
  },
  {
   "cell_type": "code",
   "execution_count": 88,
   "metadata": {},
   "outputs": [
    {
     "data": {
      "text/html": [
       "<div>\n",
       "<style>\n",
       "    .dataframe thead tr:only-child th {\n",
       "        text-align: right;\n",
       "    }\n",
       "\n",
       "    .dataframe thead th {\n",
       "        text-align: left;\n",
       "    }\n",
       "\n",
       "    .dataframe tbody tr th {\n",
       "        vertical-align: top;\n",
       "    }\n",
       "</style>\n",
       "<table border=\"1\" class=\"dataframe\">\n",
       "  <thead>\n",
       "    <tr style=\"text-align: right;\">\n",
       "      <th></th>\n",
       "      <th>day</th>\n",
       "      <th>hour</th>\n",
       "      <th>tweet_count</th>\n",
       "    </tr>\n",
       "  </thead>\n",
       "  <tbody>\n",
       "    <tr>\n",
       "      <th>count</th>\n",
       "      <td>2009-05-04</td>\n",
       "      <td>18</td>\n",
       "      <td>1</td>\n",
       "    </tr>\n",
       "    <tr>\n",
       "      <th>1</th>\n",
       "      <td>2009-05-05</td>\n",
       "      <td>1</td>\n",
       "      <td>1</td>\n",
       "    </tr>\n",
       "    <tr>\n",
       "      <th>2</th>\n",
       "      <td>2009-05-08</td>\n",
       "      <td>13</td>\n",
       "      <td>1</td>\n",
       "    </tr>\n",
       "    <tr>\n",
       "      <th>3</th>\n",
       "      <td>2009-05-08</td>\n",
       "      <td>20</td>\n",
       "      <td>1</td>\n",
       "    </tr>\n",
       "    <tr>\n",
       "      <th>4</th>\n",
       "      <td>2009-05-12</td>\n",
       "      <td>14</td>\n",
       "      <td>1</td>\n",
       "    </tr>\n",
       "  </tbody>\n",
       "</table>\n",
       "</div>"
      ],
      "text/plain": [
       "              day  hour  tweet_count\n",
       "count  2009-05-04    18            1\n",
       "1      2009-05-05     1            1\n",
       "2      2009-05-08    13            1\n",
       "3      2009-05-08    20            1\n",
       "4      2009-05-12    14            1"
      ]
     },
     "execution_count": 88,
     "metadata": {},
     "output_type": "execute_result"
    }
   ],
   "source": [
    "tweets_perday_perhour = df.groupby([df.created_at.dt.date, df.created_at.dt.hour]).size()\n",
    "tweets_perday_perhour.index.names = ['day', 'hour']\n",
    "tweets_perday_perhour = tweets_perday_perhour.reset_index()\n",
    "tweets_perday_perhour.rename(columns={tweets_perday_perhour.columns[-1]: \"tweet_count\" }, inplace=True)\n",
    "tweets_perday_perhour.head()"
   ]
  },
  {
   "cell_type": "code",
   "execution_count": 108,
   "metadata": {},
   "outputs": [
    {
     "data": {
      "text/plain": [
       "<matplotlib.axes._subplots.AxesSubplot at 0x7f4fd25e2940>"
      ]
     },
     "execution_count": 108,
     "metadata": {},
     "output_type": "execute_result"
    },
    {
     "data": {
      "image/png": "[encoded data removed]",
      "text/plain": [
       "<matplotlib.figure.Figure at 0x7f4fd25ea978>"
      ]
     },
     "metadata": {},
     "output_type": "display_data"
    }
   ],
   "source": [
    "tweet_group = tweets_perday_perhour.groupby('hour').agg({'tweet_count':{'Sum':'sum', 'Mean': 'mean', 'stddev':'std'}})\n",
    "tweet_group['tweet_count']['Mean'].plot()\n",
    "# tweet_group['tweet_count']['stddev'].plot()"
   ]
  },
  {
   "cell_type": "code",
   "execution_count": 29,
   "metadata": {},
   "outputs": [
    {
     "data": {
      "image/png": "[encoded data removed]",
      "text/plain": [
       "<matplotlib.figure.Figure at 0x7f1888ed2a58>"
      ]
     },
     "metadata": {},
     "output_type": "display_data"
    }
   ],
   "source": [
    "df.groupby(pd.Grouper(key='created_at', freq='7D')).size().plot(figsize=(12,5))\n",
    "plt.title('Number of Tweets per day')\n",
    "plt.xlabel('Date')\n",
    "plt.ylabel('Number of Tweets')\n",
    "plt.show()"
   ]
  },
  {
   "cell_type": "code",
   "execution_count": 35,
   "metadata": {},
   "outputs": [],
   "source": [
    "nlp = spacy.load('en')"
   ]
  },
  {
   "cell_type": "code",
   "execution_count": 55,
   "metadata": {},
   "outputs": [
    {
     "name": "stdout",
     "output_type": "stream",
     "text": [
      "Apple ORG\n",
      "U.K. GPE\n",
      "$1 billion MONEY\n"
     ]
    }
   ],
   "source": [
    "doc = nlp(u'Apple is looking at buying U.K. startup for $1 billion')\n",
    "\n",
    "for ent in doc.ents:\n",
    "    print(ent.text, ent.label_)"
   ]
  },
  {
   "cell_type": "markdown",
   "metadata": {},
   "source": [
    "## Entity extraction\n",
    "\n",
    "Unfortunately case matters when it comes to entity recognition so we will reimport the data below. We will also focus only on the tweets from 2016 onwards which I presume are the tweets dealing with the 2016 election. You know, the one that trump lost but won?"
   ]
  },
  {
   "cell_type": "code",
   "execution_count": 53,
   "metadata": {},
   "outputs": [
    {
     "data": {
      "text/plain": [
       "(4651, 6)"
      ]
     },
     "execution_count": 53,
     "metadata": {},
     "output_type": "execute_result"
    }
   ],
   "source": [
    "df = pd.read_csv('data/trump.csv') # might need to change location if on Floydhub\n",
    "\n",
    "df = df[df.is_retweet=='false']\n",
    "df = df[~df.text.str.startswith('RT ')]\n",
    "\n",
    "df = df[[len(t)<180 for t in df.text.values]]\n",
    "df = df[[len(t)>50 for t in df.text.values]]\n",
    "\n",
    "df['created_at'] = pd.to_datetime(df['created_at'])\n",
    "df = df[df.created_at.dt.year>=2016]\n",
    "df.shape"
   ]
  },
  {
   "cell_type": "code",
   "execution_count": 54,
   "metadata": {},
   "outputs": [],
   "source": [
    "docs = [nlp(tweet) for tweet in df.text.values]\n",
    "entities = [doc.ents for doc in docs]\n",
    "entities = list(itertools.chain.from_iterable(entities))"
   ]
  },
  {
   "cell_type": "code",
   "execution_count": 58,
   "metadata": {},
   "outputs": [
    {
     "data": {
      "text/plain": [
       "[('hillary', 199),\n",
       " ('today', 174),\n",
       " ('hillary clinton', 165),\n",
       " ('u.s.', 122),\n",
       " ('trump2016', 122),\n",
       " ('tonight', 112),\n",
       " ('america', 102),\n",
       " ('american', 100),\n",
       " ('tomorrow', 95),\n",
       " ('obama', 92),\n",
       " ('ted cruz', 89),\n",
       " ('trump', 79),\n",
       " ('clinton', 77),\n",
       " ('obamacare', 76),\n",
       " ('ohio', 74)]"
      ]
     },
     "execution_count": 58,
     "metadata": {},
     "output_type": "execute_result"
    }
   ],
   "source": [
    "entities_names = [ent.text.lower() for ent in entities]\n",
    "Counter(entities_names).most_common(15)"
   ]
  },
  {
   "cell_type": "code",
   "execution_count": 61,
   "metadata": {},
   "outputs": [
    {
     "data": {
      "text/plain": [
       "[('ORG', 2416),\n",
       " ('PERSON', 2324),\n",
       " ('GPE', 2247),\n",
       " ('DATE', 843),\n",
       " ('MONEY', 713),\n",
       " ('NORP', 623),\n",
       " ('CARDINAL', 596),\n",
       " ('TIME', 456),\n",
       " ('ORDINAL', 95),\n",
       " ('FAC', 89),\n",
       " ('PERCENT', 78),\n",
       " ('WORK_OF_ART', 71),\n",
       " ('PRODUCT', 61),\n",
       " ('LOC', 60),\n",
       " ('EVENT', 46),\n",
       " ('LAW', 26),\n",
       " ('QUANTITY', 8),\n",
       " ('LANGUAGE', 3)]"
      ]
     },
     "execution_count": 61,
     "metadata": {},
     "output_type": "execute_result"
    }
   ],
   "source": [
    "entities_types = [ent.label_ for ent in entities]\n",
    "Counter(entities_types).most_common()"
   ]
  },
  {
   "cell_type": "code",
   "execution_count": 63,
   "metadata": {},
   "outputs": [
    {
     "data": {
      "text/plain": [
       "[('hillary', 199),\n",
       " ('hillary clinton', 165),\n",
       " ('ted cruz', 89),\n",
       " ('obama', 81),\n",
       " ('clinton', 69),\n",
       " ('cruz', 66),\n",
       " ('crooked hillary', 56),\n",
       " ('trump2016', 56),\n",
       " ('donald trump', 44),\n",
       " ('bernie sanders', 34),\n",
       " ('trump', 29),\n",
       " ('vote', 28),\n",
       " ('marco rubio', 27),\n",
       " ('bernie', 18),\n",
       " (\"hillary clinton's\", 16)]"
      ]
     },
     "execution_count": 63,
     "metadata": {},
     "output_type": "execute_result"
    }
   ],
   "source": [
    "people = [ent.text.lower() for ent in entities if ent.label_=='PERSON']\n",
    "Counter(people).most_common(15)"
   ]
  },
  {
   "cell_type": "code",
   "execution_count": 64,
   "metadata": {},
   "outputs": [
    {
     "data": {
      "text/plain": [
       "[('u.s.', 122),\n",
       " ('america', 102),\n",
       " ('ohio', 74),\n",
       " ('florida', 72),\n",
       " ('russia', 66),\n",
       " ('iowa', 59),\n",
       " ('maga', 47),\n",
       " ('new hampshire', 46),\n",
       " ('pennsylvania', 42),\n",
       " ('melania', 37),\n",
       " ('china', 35),\n",
       " ('indiana', 34),\n",
       " ('south carolina', 33),\n",
       " ('mexico', 32),\n",
       " ('new york', 30)]"
      ]
     },
     "execution_count": 64,
     "metadata": {},
     "output_type": "execute_result"
    }
   ],
   "source": [
    "geo = [ent.text.lower() for ent in entities if ent.label_=='GPE']\n",
    "Counter(geo).most_common(15)"
   ]
  },
  {
   "cell_type": "code",
   "execution_count": 65,
   "metadata": {},
   "outputs": [
    {
     "data": {
      "text/plain": [
       "[('obamacare', 59),\n",
       " ('@nytimes', 46),\n",
       " ('cnn', 35),\n",
       " ('fbi', 32),\n",
       " ('@realdonaldtrump', 29),\n",
       " ('senate', 27),\n",
       " ('gop', 27),\n",
       " ('trump', 27),\n",
       " ('dnc', 25),\n",
       " ('@whitehouse', 25),\n",
       " ('the republican party', 20),\n",
       " ('congress', 18),\n",
       " ('the white house', 18),\n",
       " ('rubio', 17),\n",
       " ('state', 16)]"
      ]
     },
     "execution_count": 65,
     "metadata": {},
     "output_type": "execute_result"
    }
   ],
   "source": [
    "org = [ent.text.lower() for ent in entities if ent.label_=='ORG']\n",
    "Counter(org).most_common(15)"
   ]
  },
  {
   "cell_type": "code",
   "execution_count": 67,
   "metadata": {
    "collapsed": true
   },
   "outputs": [],
   "source": [
    "df.text = df.text.str.lower()\n",
    "df.text = df.text.str.replace(r'http[\\w:/\\.]+','') # remove urls\n",
    "df.text = df.text.str.replace(r'[^!\\'\"#$%&\\()*+,-./:;<=>?@_’`{|}~\\w\\s]',' ') #remove everything but characters and punctuation\n",
    "df.text = df.text.str.replace(r'\\s\\s+',' ') #replace multple white space with a single one"
   ]
  },
  {
   "cell_type": "code",
   "execution_count": 74,
   "metadata": {},
   "outputs": [],
   "source": [
    "tf_vectorizer = CountVectorizer(max_df=0.95, min_df=2, max_features=2000, stop_words='english')\n",
    "tf = tf_vectorizer.fit_transform(df.text.values)"
   ]
  },
  {
   "cell_type": "code",
   "execution_count": 78,
   "metadata": {
    "collapsed": true
   },
   "outputs": [],
   "source": [
    "# Reference: http://scikit-learn.org/stable/auto_examples/applications/plot_topics_extraction_with_nmf_lda.html#sphx-glr-auto-examples-applications-plot-topics-extraction-with-nmf-lda-py\n",
    "def print_top_words(model, feature_names, n_top_words):\n",
    "    for topic_idx, topic in enumerate(model.components_):\n",
    "        message = \"Topic #%d: \" % topic_idx\n",
    "        message += \" \".join([feature_names[i]\n",
    "                             for i in topic.argsort()[:-n_top_words - 1:-1]])\n",
    "        print(message)\n",
    "    print()"
   ]
  },
  {
   "cell_type": "code",
   "execution_count": 81,
   "metadata": {},
   "outputs": [
    {
     "name": "stderr",
     "output_type": "stream",
     "text": [
      "/root/miniconda3/lib/python3.6/site-packages/sklearn/decomposition/online_lda.py:532: DeprecationWarning: The default value for 'learning_method' will be changed from 'online' to 'batch' in the release 0.20. This warning was introduced in 0.18.\n",
      "  DeprecationWarning)\n"
     ]
    },
    {
     "name": "stdout",
     "output_type": "stream",
     "text": [
      "\n",
      "Topics in LDA model:\n",
      "Topic #0: thank great trump2016 makeamericagreatagain today realdonaldtrump tonight amp support enjoy\n",
      "Topic #1: hillary clinton trump crooked media president obama campaign amp want\n",
      "Topic #2: america great make new going people realdonaldtrump americafirst love states\n",
      "Topic #3: cruz join just said ted iowa amp republican maga rubio\n",
      "Topic #4: amp cnn jobs new people time great let poll trump\n",
      "\n"
     ]
    }
   ],
   "source": [
    "lda = LatentDirichletAllocation(n_components=5)\n",
    "lda.fit(tf)\n",
    "\n",
    "print(\"\\nTopics in LDA model:\")\n",
    "tf_feature_names = tf_vectorizer.get_feature_names()\n",
    "print_top_words(lda, tf_feature_names, 10)"
   ]
  },
  {
   "cell_type": "code",
   "execution_count": null,
   "metadata": {
    "collapsed": true
   },
   "outputs": [],
   "source": []
  }
 ],
 "metadata": {
  "kernelspec": {
   "display_name": "Python 3",
   "language": "python",
   "name": "python3"
  },
  "language_info": {
   "codemirror_mode": {
    "name": "ipython",
    "version": 3
   },
   "file_extension": ".py",
   "mimetype": "text/x-python",
   "name": "python",
   "nbconvert_exporter": "python",
   "pygments_lexer": "ipython3",
   "version": "3.6.1"
  }
 },
 "nbformat": 4,
 "nbformat_minor": 2
}
